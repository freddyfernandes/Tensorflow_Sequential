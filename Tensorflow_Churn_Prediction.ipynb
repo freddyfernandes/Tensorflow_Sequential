{
  "nbformat": 4,
  "nbformat_minor": 0,
  "metadata": {
    "colab": {
      "provenance": [],
      "authorship_tag": "ABX9TyMH72Wcjd5RhfuO+R1O6VTQ",
      "include_colab_link": true
    },
    "kernelspec": {
      "name": "python3",
      "display_name": "Python 3"
    },
    "language_info": {
      "name": "python"
    }
  },
  "cells": [
    {
      "cell_type": "markdown",
      "metadata": {
        "id": "view-in-github",
        "colab_type": "text"
      },
      "source": [
        "<a href=\"https://colab.research.google.com/github/freddyfernandes/Tensorflow_Sequential/blob/main/Tensorflow_Churn_Prediction.ipynb\" target=\"_parent\"><img src=\"https://colab.research.google.com/assets/colab-badge.svg\" alt=\"Open In Colab\"/></a>"
      ]
    },
    {
      "cell_type": "markdown",
      "source": [
        "##Importing Data"
      ],
      "metadata": {
        "id": "ZZ9IuRqUGvnN"
      }
    },
    {
      "cell_type": "code",
      "execution_count": 1,
      "metadata": {
        "id": "7fvMK_RvpZpV"
      },
      "outputs": [],
      "source": [
        "import pandas as pd\n",
        "from sklearn.model_selection import train_test_split"
      ]
    },
    {
      "cell_type": "code",
      "source": [
        "df = pd.read_csv('Churn.csv')\n",
        "df.head()"
      ],
      "metadata": {
        "colab": {
          "base_uri": "https://localhost:8080/",
          "height": 377
        },
        "id": "Qs5p5mpwEPGv",
        "outputId": "e81fc41e-f9e2-4e9d-988b-83b091276941"
      },
      "execution_count": 2,
      "outputs": [
        {
          "output_type": "execute_result",
          "data": {
            "text/plain": [
              "  Customer ID  Gender  Senior Citizen Partner Dependents  tenure  \\\n",
              "0  7590-VHVEA  Female               0     Yes         No       1   \n",
              "1  7590-VHVEG  Female               0     Yes         No       1   \n",
              "2  5575-GNVDE    Male               0      No         No      34   \n",
              "3  3668-QPYBK    Male               0      No         No       2   \n",
              "4  7795-CFOCW    Male               0      No         No      45   \n",
              "\n",
              "  Phone Service    Multiple Lines Internet Service Online Security  ...  \\\n",
              "0            No  No phone service              DSL              No  ...   \n",
              "1            No  No phone service              DSL              No  ...   \n",
              "2           Yes                No              DSL             Yes  ...   \n",
              "3           Yes                No              DSL             Yes  ...   \n",
              "4            No  No phone service              DSL             Yes  ...   \n",
              "\n",
              "  Device Protection Tech Support Streaming TV Streaming Movies  \\\n",
              "0                No           No           No               No   \n",
              "1                No           No           No               No   \n",
              "2               Yes           No           No               No   \n",
              "3                No           No           No               No   \n",
              "4               Yes          Yes           No               No   \n",
              "\n",
              "         Contract Paperless Billing             Payment Method  \\\n",
              "0  Month-to-month               Yes           Electronic check   \n",
              "1  Month-to-month               Yes           Electronic check   \n",
              "2        One year                No               Mailed check   \n",
              "3  Month-to-month               Yes               Mailed check   \n",
              "4        One year                No  Bank transfer (automatic)   \n",
              "\n",
              "  Monthly Charges  Total Charges Churn  \n",
              "0           29.85          29.85    No  \n",
              "1           29.85          29.85    No  \n",
              "2           56.95         1889.5    No  \n",
              "3           53.85         108.15   Yes  \n",
              "4           42.30        1840.75    No  \n",
              "\n",
              "[5 rows x 21 columns]"
            ],
            "text/html": [
              "\n",
              "  <div id=\"df-f54c0b7a-a9d9-4983-a0d6-bfeccb463f1d\" class=\"colab-df-container\">\n",
              "    <div>\n",
              "<style scoped>\n",
              "    .dataframe tbody tr th:only-of-type {\n",
              "        vertical-align: middle;\n",
              "    }\n",
              "\n",
              "    .dataframe tbody tr th {\n",
              "        vertical-align: top;\n",
              "    }\n",
              "\n",
              "    .dataframe thead th {\n",
              "        text-align: right;\n",
              "    }\n",
              "</style>\n",
              "<table border=\"1\" class=\"dataframe\">\n",
              "  <thead>\n",
              "    <tr style=\"text-align: right;\">\n",
              "      <th></th>\n",
              "      <th>Customer ID</th>\n",
              "      <th>Gender</th>\n",
              "      <th>Senior Citizen</th>\n",
              "      <th>Partner</th>\n",
              "      <th>Dependents</th>\n",
              "      <th>tenure</th>\n",
              "      <th>Phone Service</th>\n",
              "      <th>Multiple Lines</th>\n",
              "      <th>Internet Service</th>\n",
              "      <th>Online Security</th>\n",
              "      <th>...</th>\n",
              "      <th>Device Protection</th>\n",
              "      <th>Tech Support</th>\n",
              "      <th>Streaming TV</th>\n",
              "      <th>Streaming Movies</th>\n",
              "      <th>Contract</th>\n",
              "      <th>Paperless Billing</th>\n",
              "      <th>Payment Method</th>\n",
              "      <th>Monthly Charges</th>\n",
              "      <th>Total Charges</th>\n",
              "      <th>Churn</th>\n",
              "    </tr>\n",
              "  </thead>\n",
              "  <tbody>\n",
              "    <tr>\n",
              "      <th>0</th>\n",
              "      <td>7590-VHVEA</td>\n",
              "      <td>Female</td>\n",
              "      <td>0</td>\n",
              "      <td>Yes</td>\n",
              "      <td>No</td>\n",
              "      <td>1</td>\n",
              "      <td>No</td>\n",
              "      <td>No phone service</td>\n",
              "      <td>DSL</td>\n",
              "      <td>No</td>\n",
              "      <td>...</td>\n",
              "      <td>No</td>\n",
              "      <td>No</td>\n",
              "      <td>No</td>\n",
              "      <td>No</td>\n",
              "      <td>Month-to-month</td>\n",
              "      <td>Yes</td>\n",
              "      <td>Electronic check</td>\n",
              "      <td>29.85</td>\n",
              "      <td>29.85</td>\n",
              "      <td>No</td>\n",
              "    </tr>\n",
              "    <tr>\n",
              "      <th>1</th>\n",
              "      <td>7590-VHVEG</td>\n",
              "      <td>Female</td>\n",
              "      <td>0</td>\n",
              "      <td>Yes</td>\n",
              "      <td>No</td>\n",
              "      <td>1</td>\n",
              "      <td>No</td>\n",
              "      <td>No phone service</td>\n",
              "      <td>DSL</td>\n",
              "      <td>No</td>\n",
              "      <td>...</td>\n",
              "      <td>No</td>\n",
              "      <td>No</td>\n",
              "      <td>No</td>\n",
              "      <td>No</td>\n",
              "      <td>Month-to-month</td>\n",
              "      <td>Yes</td>\n",
              "      <td>Electronic check</td>\n",
              "      <td>29.85</td>\n",
              "      <td>29.85</td>\n",
              "      <td>No</td>\n",
              "    </tr>\n",
              "    <tr>\n",
              "      <th>2</th>\n",
              "      <td>5575-GNVDE</td>\n",
              "      <td>Male</td>\n",
              "      <td>0</td>\n",
              "      <td>No</td>\n",
              "      <td>No</td>\n",
              "      <td>34</td>\n",
              "      <td>Yes</td>\n",
              "      <td>No</td>\n",
              "      <td>DSL</td>\n",
              "      <td>Yes</td>\n",
              "      <td>...</td>\n",
              "      <td>Yes</td>\n",
              "      <td>No</td>\n",
              "      <td>No</td>\n",
              "      <td>No</td>\n",
              "      <td>One year</td>\n",
              "      <td>No</td>\n",
              "      <td>Mailed check</td>\n",
              "      <td>56.95</td>\n",
              "      <td>1889.5</td>\n",
              "      <td>No</td>\n",
              "    </tr>\n",
              "    <tr>\n",
              "      <th>3</th>\n",
              "      <td>3668-QPYBK</td>\n",
              "      <td>Male</td>\n",
              "      <td>0</td>\n",
              "      <td>No</td>\n",
              "      <td>No</td>\n",
              "      <td>2</td>\n",
              "      <td>Yes</td>\n",
              "      <td>No</td>\n",
              "      <td>DSL</td>\n",
              "      <td>Yes</td>\n",
              "      <td>...</td>\n",
              "      <td>No</td>\n",
              "      <td>No</td>\n",
              "      <td>No</td>\n",
              "      <td>No</td>\n",
              "      <td>Month-to-month</td>\n",
              "      <td>Yes</td>\n",
              "      <td>Mailed check</td>\n",
              "      <td>53.85</td>\n",
              "      <td>108.15</td>\n",
              "      <td>Yes</td>\n",
              "    </tr>\n",
              "    <tr>\n",
              "      <th>4</th>\n",
              "      <td>7795-CFOCW</td>\n",
              "      <td>Male</td>\n",
              "      <td>0</td>\n",
              "      <td>No</td>\n",
              "      <td>No</td>\n",
              "      <td>45</td>\n",
              "      <td>No</td>\n",
              "      <td>No phone service</td>\n",
              "      <td>DSL</td>\n",
              "      <td>Yes</td>\n",
              "      <td>...</td>\n",
              "      <td>Yes</td>\n",
              "      <td>Yes</td>\n",
              "      <td>No</td>\n",
              "      <td>No</td>\n",
              "      <td>One year</td>\n",
              "      <td>No</td>\n",
              "      <td>Bank transfer (automatic)</td>\n",
              "      <td>42.30</td>\n",
              "      <td>1840.75</td>\n",
              "      <td>No</td>\n",
              "    </tr>\n",
              "  </tbody>\n",
              "</table>\n",
              "<p>5 rows × 21 columns</p>\n",
              "</div>\n",
              "    <div class=\"colab-df-buttons\">\n",
              "\n",
              "  <div class=\"colab-df-container\">\n",
              "    <button class=\"colab-df-convert\" onclick=\"convertToInteractive('df-f54c0b7a-a9d9-4983-a0d6-bfeccb463f1d')\"\n",
              "            title=\"Convert this dataframe to an interactive table.\"\n",
              "            style=\"display:none;\">\n",
              "\n",
              "  <svg xmlns=\"http://www.w3.org/2000/svg\" height=\"24px\" viewBox=\"0 -960 960 960\">\n",
              "    <path d=\"M120-120v-720h720v720H120Zm60-500h600v-160H180v160Zm220 220h160v-160H400v160Zm0 220h160v-160H400v160ZM180-400h160v-160H180v160Zm440 0h160v-160H620v160ZM180-180h160v-160H180v160Zm440 0h160v-160H620v160Z\"/>\n",
              "  </svg>\n",
              "    </button>\n",
              "\n",
              "  <style>\n",
              "    .colab-df-container {\n",
              "      display:flex;\n",
              "      gap: 12px;\n",
              "    }\n",
              "\n",
              "    .colab-df-convert {\n",
              "      background-color: #E8F0FE;\n",
              "      border: none;\n",
              "      border-radius: 50%;\n",
              "      cursor: pointer;\n",
              "      display: none;\n",
              "      fill: #1967D2;\n",
              "      height: 32px;\n",
              "      padding: 0 0 0 0;\n",
              "      width: 32px;\n",
              "    }\n",
              "\n",
              "    .colab-df-convert:hover {\n",
              "      background-color: #E2EBFA;\n",
              "      box-shadow: 0px 1px 2px rgba(60, 64, 67, 0.3), 0px 1px 3px 1px rgba(60, 64, 67, 0.15);\n",
              "      fill: #174EA6;\n",
              "    }\n",
              "\n",
              "    .colab-df-buttons div {\n",
              "      margin-bottom: 4px;\n",
              "    }\n",
              "\n",
              "    [theme=dark] .colab-df-convert {\n",
              "      background-color: #3B4455;\n",
              "      fill: #D2E3FC;\n",
              "    }\n",
              "\n",
              "    [theme=dark] .colab-df-convert:hover {\n",
              "      background-color: #434B5C;\n",
              "      box-shadow: 0px 1px 3px 1px rgba(0, 0, 0, 0.15);\n",
              "      filter: drop-shadow(0px 1px 2px rgba(0, 0, 0, 0.3));\n",
              "      fill: #FFFFFF;\n",
              "    }\n",
              "  </style>\n",
              "\n",
              "    <script>\n",
              "      const buttonEl =\n",
              "        document.querySelector('#df-f54c0b7a-a9d9-4983-a0d6-bfeccb463f1d button.colab-df-convert');\n",
              "      buttonEl.style.display =\n",
              "        google.colab.kernel.accessAllowed ? 'block' : 'none';\n",
              "\n",
              "      async function convertToInteractive(key) {\n",
              "        const element = document.querySelector('#df-f54c0b7a-a9d9-4983-a0d6-bfeccb463f1d');\n",
              "        const dataTable =\n",
              "          await google.colab.kernel.invokeFunction('convertToInteractive',\n",
              "                                                    [key], {});\n",
              "        if (!dataTable) return;\n",
              "\n",
              "        const docLinkHtml = 'Like what you see? Visit the ' +\n",
              "          '<a target=\"_blank\" href=https://colab.research.google.com/notebooks/data_table.ipynb>data table notebook</a>'\n",
              "          + ' to learn more about interactive tables.';\n",
              "        element.innerHTML = '';\n",
              "        dataTable['output_type'] = 'display_data';\n",
              "        await google.colab.output.renderOutput(dataTable, element);\n",
              "        const docLink = document.createElement('div');\n",
              "        docLink.innerHTML = docLinkHtml;\n",
              "        element.appendChild(docLink);\n",
              "      }\n",
              "    </script>\n",
              "  </div>\n",
              "\n",
              "\n",
              "<div id=\"df-592b9e53-1f58-4e31-8c07-05642ea02bb9\">\n",
              "  <button class=\"colab-df-quickchart\" onclick=\"quickchart('df-592b9e53-1f58-4e31-8c07-05642ea02bb9')\"\n",
              "            title=\"Suggest charts\"\n",
              "            style=\"display:none;\">\n",
              "\n",
              "<svg xmlns=\"http://www.w3.org/2000/svg\" height=\"24px\"viewBox=\"0 0 24 24\"\n",
              "     width=\"24px\">\n",
              "    <g>\n",
              "        <path d=\"M19 3H5c-1.1 0-2 .9-2 2v14c0 1.1.9 2 2 2h14c1.1 0 2-.9 2-2V5c0-1.1-.9-2-2-2zM9 17H7v-7h2v7zm4 0h-2V7h2v10zm4 0h-2v-4h2v4z\"/>\n",
              "    </g>\n",
              "</svg>\n",
              "  </button>\n",
              "\n",
              "<style>\n",
              "  .colab-df-quickchart {\n",
              "      --bg-color: #E8F0FE;\n",
              "      --fill-color: #1967D2;\n",
              "      --hover-bg-color: #E2EBFA;\n",
              "      --hover-fill-color: #174EA6;\n",
              "      --disabled-fill-color: #AAA;\n",
              "      --disabled-bg-color: #DDD;\n",
              "  }\n",
              "\n",
              "  [theme=dark] .colab-df-quickchart {\n",
              "      --bg-color: #3B4455;\n",
              "      --fill-color: #D2E3FC;\n",
              "      --hover-bg-color: #434B5C;\n",
              "      --hover-fill-color: #FFFFFF;\n",
              "      --disabled-bg-color: #3B4455;\n",
              "      --disabled-fill-color: #666;\n",
              "  }\n",
              "\n",
              "  .colab-df-quickchart {\n",
              "    background-color: var(--bg-color);\n",
              "    border: none;\n",
              "    border-radius: 50%;\n",
              "    cursor: pointer;\n",
              "    display: none;\n",
              "    fill: var(--fill-color);\n",
              "    height: 32px;\n",
              "    padding: 0;\n",
              "    width: 32px;\n",
              "  }\n",
              "\n",
              "  .colab-df-quickchart:hover {\n",
              "    background-color: var(--hover-bg-color);\n",
              "    box-shadow: 0 1px 2px rgba(60, 64, 67, 0.3), 0 1px 3px 1px rgba(60, 64, 67, 0.15);\n",
              "    fill: var(--button-hover-fill-color);\n",
              "  }\n",
              "\n",
              "  .colab-df-quickchart-complete:disabled,\n",
              "  .colab-df-quickchart-complete:disabled:hover {\n",
              "    background-color: var(--disabled-bg-color);\n",
              "    fill: var(--disabled-fill-color);\n",
              "    box-shadow: none;\n",
              "  }\n",
              "\n",
              "  .colab-df-spinner {\n",
              "    border: 2px solid var(--fill-color);\n",
              "    border-color: transparent;\n",
              "    border-bottom-color: var(--fill-color);\n",
              "    animation:\n",
              "      spin 1s steps(1) infinite;\n",
              "  }\n",
              "\n",
              "  @keyframes spin {\n",
              "    0% {\n",
              "      border-color: transparent;\n",
              "      border-bottom-color: var(--fill-color);\n",
              "      border-left-color: var(--fill-color);\n",
              "    }\n",
              "    20% {\n",
              "      border-color: transparent;\n",
              "      border-left-color: var(--fill-color);\n",
              "      border-top-color: var(--fill-color);\n",
              "    }\n",
              "    30% {\n",
              "      border-color: transparent;\n",
              "      border-left-color: var(--fill-color);\n",
              "      border-top-color: var(--fill-color);\n",
              "      border-right-color: var(--fill-color);\n",
              "    }\n",
              "    40% {\n",
              "      border-color: transparent;\n",
              "      border-right-color: var(--fill-color);\n",
              "      border-top-color: var(--fill-color);\n",
              "    }\n",
              "    60% {\n",
              "      border-color: transparent;\n",
              "      border-right-color: var(--fill-color);\n",
              "    }\n",
              "    80% {\n",
              "      border-color: transparent;\n",
              "      border-right-color: var(--fill-color);\n",
              "      border-bottom-color: var(--fill-color);\n",
              "    }\n",
              "    90% {\n",
              "      border-color: transparent;\n",
              "      border-bottom-color: var(--fill-color);\n",
              "    }\n",
              "  }\n",
              "</style>\n",
              "\n",
              "  <script>\n",
              "    async function quickchart(key) {\n",
              "      const quickchartButtonEl =\n",
              "        document.querySelector('#' + key + ' button');\n",
              "      quickchartButtonEl.disabled = true;  // To prevent multiple clicks.\n",
              "      quickchartButtonEl.classList.add('colab-df-spinner');\n",
              "      try {\n",
              "        const charts = await google.colab.kernel.invokeFunction(\n",
              "            'suggestCharts', [key], {});\n",
              "      } catch (error) {\n",
              "        console.error('Error during call to suggestCharts:', error);\n",
              "      }\n",
              "      quickchartButtonEl.classList.remove('colab-df-spinner');\n",
              "      quickchartButtonEl.classList.add('colab-df-quickchart-complete');\n",
              "    }\n",
              "    (() => {\n",
              "      let quickchartButtonEl =\n",
              "        document.querySelector('#df-592b9e53-1f58-4e31-8c07-05642ea02bb9 button');\n",
              "      quickchartButtonEl.style.display =\n",
              "        google.colab.kernel.accessAllowed ? 'block' : 'none';\n",
              "    })();\n",
              "  </script>\n",
              "</div>\n",
              "    </div>\n",
              "  </div>\n"
            ]
          },
          "metadata": {},
          "execution_count": 2
        }
      ]
    },
    {
      "cell_type": "code",
      "source": [
        "X = pd.get_dummies(df.drop(['Churn', 'Customer ID'], axis=1))\n",
        "y = df['Churn'].apply(lambda x: 1 if x=='Yes' else 0)"
      ],
      "metadata": {
        "id": "ygaMrZwVEQJb"
      },
      "execution_count": 3,
      "outputs": []
    },
    {
      "cell_type": "code",
      "source": [
        "X_train, X_test, y_train, y_test = train_test_split(X, y, test_size=.2)"
      ],
      "metadata": {
        "id": "g2YB1_eaERzp"
      },
      "execution_count": 4,
      "outputs": []
    },
    {
      "cell_type": "code",
      "source": [
        "y_train.head()"
      ],
      "metadata": {
        "colab": {
          "base_uri": "https://localhost:8080/"
        },
        "id": "JCNPA5niETxd",
        "outputId": "4f167bb8-47c5-40f0-9fdb-5d26acfc16b5"
      },
      "execution_count": 5,
      "outputs": [
        {
          "output_type": "execute_result",
          "data": {
            "text/plain": [
              "3847    0\n",
              "6042    0\n",
              "4776    1\n",
              "3421    0\n",
              "1212    1\n",
              "Name: Churn, dtype: int64"
            ]
          },
          "metadata": {},
          "execution_count": 5
        }
      ]
    },
    {
      "cell_type": "markdown",
      "source": [
        "##Importing dependencies from Tensorflow"
      ],
      "metadata": {
        "id": "08MZRme1G08C"
      }
    },
    {
      "cell_type": "code",
      "source": [
        "from tensorflow.keras.models import Sequential, load_model #load model from memory\n",
        "from tensorflow.keras.layers import Dense #Fully connected layers\n",
        "from sklearn.metrics import accuracy_score"
      ],
      "metadata": {
        "id": "tuBar8_2FGLb"
      },
      "execution_count": 6,
      "outputs": []
    },
    {
      "cell_type": "markdown",
      "source": [
        "Creating our model"
      ],
      "metadata": {
        "id": "Ia0yaE_TG7Jz"
      }
    },
    {
      "cell_type": "code",
      "source": [
        "model = Sequential()\n",
        "model.add(Dense(units=32, activation='relu', input_dim=len(X_train.columns)))\n",
        "model.add(Dense(units=64, activation='relu'))\n",
        "model.add(Dense(units=1, activation='sigmoid'))"
      ],
      "metadata": {
        "id": "AaxySgRZFJAl"
      },
      "execution_count": 7,
      "outputs": []
    },
    {
      "cell_type": "code",
      "source": [
        "model.compile(loss='binary_crossentropy', optimizer='sgd', metrics='accuracy')"
      ],
      "metadata": {
        "id": "us31i3waFN2S"
      },
      "execution_count": 8,
      "outputs": []
    },
    {
      "cell_type": "code",
      "source": [
        "model.fit(X_train, y_train, epochs=100, batch_size=32)"
      ],
      "metadata": {
        "colab": {
          "base_uri": "https://localhost:8080/"
        },
        "id": "1LMqW_IjFQLY",
        "outputId": "c1335efa-101c-47ee-9ce6-a50c6e5a5201"
      },
      "execution_count": 10,
      "outputs": [
        {
          "output_type": "stream",
          "name": "stdout",
          "text": [
            "Epoch 1/100\n",
            "177/177 [==============================] - 1s 5ms/step - loss: 0.4531 - accuracy: 0.7858\n",
            "Epoch 2/100\n",
            "177/177 [==============================] - 1s 8ms/step - loss: 0.4517 - accuracy: 0.7812\n",
            "Epoch 3/100\n",
            "177/177 [==============================] - 1s 7ms/step - loss: 0.4500 - accuracy: 0.7860\n",
            "Epoch 4/100\n",
            "177/177 [==============================] - 1s 8ms/step - loss: 0.4506 - accuracy: 0.7878\n",
            "Epoch 5/100\n",
            "177/177 [==============================] - 1s 6ms/step - loss: 0.4494 - accuracy: 0.7844\n",
            "Epoch 6/100\n",
            "177/177 [==============================] - 1s 5ms/step - loss: 0.4497 - accuracy: 0.7858\n",
            "Epoch 7/100\n",
            "177/177 [==============================] - 1s 5ms/step - loss: 0.4490 - accuracy: 0.7886\n",
            "Epoch 8/100\n",
            "177/177 [==============================] - 1s 5ms/step - loss: 0.4468 - accuracy: 0.7885\n",
            "Epoch 9/100\n",
            "177/177 [==============================] - 1s 5ms/step - loss: 0.4481 - accuracy: 0.7853\n",
            "Epoch 10/100\n",
            "177/177 [==============================] - 1s 5ms/step - loss: 0.4479 - accuracy: 0.7863\n",
            "Epoch 11/100\n",
            "177/177 [==============================] - 1s 5ms/step - loss: 0.4474 - accuracy: 0.7911\n",
            "Epoch 12/100\n",
            "177/177 [==============================] - 1s 5ms/step - loss: 0.4477 - accuracy: 0.7876\n",
            "Epoch 13/100\n",
            "177/177 [==============================] - 1s 5ms/step - loss: 0.4463 - accuracy: 0.7849\n",
            "Epoch 14/100\n",
            "177/177 [==============================] - 1s 5ms/step - loss: 0.4476 - accuracy: 0.7917\n",
            "Epoch 15/100\n",
            "177/177 [==============================] - 1s 5ms/step - loss: 0.4457 - accuracy: 0.7888\n",
            "Epoch 16/100\n",
            "177/177 [==============================] - 1s 5ms/step - loss: 0.4462 - accuracy: 0.7808\n",
            "Epoch 17/100\n",
            "177/177 [==============================] - 1s 8ms/step - loss: 0.4459 - accuracy: 0.7895\n",
            "Epoch 18/100\n",
            "177/177 [==============================] - 1s 8ms/step - loss: 0.4471 - accuracy: 0.7920\n",
            "Epoch 19/100\n",
            "177/177 [==============================] - 1s 8ms/step - loss: 0.4485 - accuracy: 0.7876\n",
            "Epoch 20/100\n",
            "177/177 [==============================] - 1s 6ms/step - loss: 0.4435 - accuracy: 0.7913\n",
            "Epoch 21/100\n",
            "177/177 [==============================] - 1s 5ms/step - loss: 0.4430 - accuracy: 0.7924\n",
            "Epoch 22/100\n",
            "177/177 [==============================] - 1s 5ms/step - loss: 0.4438 - accuracy: 0.7899\n",
            "Epoch 23/100\n",
            "177/177 [==============================] - 1s 5ms/step - loss: 0.4444 - accuracy: 0.7917\n",
            "Epoch 24/100\n",
            "177/177 [==============================] - 1s 5ms/step - loss: 0.4428 - accuracy: 0.7892\n",
            "Epoch 25/100\n",
            "177/177 [==============================] - 1s 5ms/step - loss: 0.4445 - accuracy: 0.7902\n",
            "Epoch 26/100\n",
            "177/177 [==============================] - 1s 5ms/step - loss: 0.4424 - accuracy: 0.7929\n",
            "Epoch 27/100\n",
            "177/177 [==============================] - 1s 5ms/step - loss: 0.4444 - accuracy: 0.7894\n",
            "Epoch 28/100\n",
            "177/177 [==============================] - 1s 5ms/step - loss: 0.4429 - accuracy: 0.7874\n",
            "Epoch 29/100\n",
            "177/177 [==============================] - 1s 5ms/step - loss: 0.4432 - accuracy: 0.7892\n",
            "Epoch 30/100\n",
            "177/177 [==============================] - 1s 5ms/step - loss: 0.4430 - accuracy: 0.7913\n",
            "Epoch 31/100\n",
            "177/177 [==============================] - 1s 6ms/step - loss: 0.4420 - accuracy: 0.7908\n",
            "Epoch 32/100\n",
            "177/177 [==============================] - 1s 8ms/step - loss: 0.4422 - accuracy: 0.7895\n",
            "Epoch 33/100\n",
            "177/177 [==============================] - 1s 7ms/step - loss: 0.4398 - accuracy: 0.7915\n",
            "Epoch 34/100\n",
            "177/177 [==============================] - 1s 7ms/step - loss: 0.4399 - accuracy: 0.7924\n",
            "Epoch 35/100\n",
            "177/177 [==============================] - 1s 6ms/step - loss: 0.4407 - accuracy: 0.7940\n",
            "Epoch 36/100\n",
            "177/177 [==============================] - 1s 5ms/step - loss: 0.4419 - accuracy: 0.7899\n",
            "Epoch 37/100\n",
            "177/177 [==============================] - 1s 4ms/step - loss: 0.4442 - accuracy: 0.7878\n",
            "Epoch 38/100\n",
            "177/177 [==============================] - 1s 5ms/step - loss: 0.4399 - accuracy: 0.7908\n",
            "Epoch 39/100\n",
            "177/177 [==============================] - 1s 6ms/step - loss: 0.4411 - accuracy: 0.7915\n",
            "Epoch 40/100\n",
            "177/177 [==============================] - 1s 5ms/step - loss: 0.4394 - accuracy: 0.7920\n",
            "Epoch 41/100\n",
            "177/177 [==============================] - 1s 6ms/step - loss: 0.4396 - accuracy: 0.7904\n",
            "Epoch 42/100\n",
            "177/177 [==============================] - 1s 5ms/step - loss: 0.4399 - accuracy: 0.7881\n",
            "Epoch 43/100\n",
            "177/177 [==============================] - 1s 5ms/step - loss: 0.4363 - accuracy: 0.7927\n",
            "Epoch 44/100\n",
            "177/177 [==============================] - 1s 5ms/step - loss: 0.4428 - accuracy: 0.7892\n",
            "Epoch 45/100\n",
            "177/177 [==============================] - 1s 5ms/step - loss: 0.4419 - accuracy: 0.7869\n",
            "Epoch 46/100\n",
            "177/177 [==============================] - 1s 6ms/step - loss: 0.4366 - accuracy: 0.7950\n",
            "Epoch 47/100\n",
            "177/177 [==============================] - 1s 7ms/step - loss: 0.4397 - accuracy: 0.7909\n",
            "Epoch 48/100\n",
            "177/177 [==============================] - 1s 7ms/step - loss: 0.4366 - accuracy: 0.7890\n",
            "Epoch 49/100\n",
            "177/177 [==============================] - 1s 8ms/step - loss: 0.4361 - accuracy: 0.7947\n",
            "Epoch 50/100\n",
            "177/177 [==============================] - 1s 7ms/step - loss: 0.4385 - accuracy: 0.7890\n",
            "Epoch 51/100\n",
            "177/177 [==============================] - 1s 5ms/step - loss: 0.4353 - accuracy: 0.7925\n",
            "Epoch 52/100\n",
            "177/177 [==============================] - 1s 5ms/step - loss: 0.4388 - accuracy: 0.7909\n",
            "Epoch 53/100\n",
            "177/177 [==============================] - 1s 5ms/step - loss: 0.4343 - accuracy: 0.7956\n",
            "Epoch 54/100\n",
            "177/177 [==============================] - 1s 5ms/step - loss: 0.4372 - accuracy: 0.7959\n",
            "Epoch 55/100\n",
            "177/177 [==============================] - 1s 5ms/step - loss: 0.4338 - accuracy: 0.7950\n",
            "Epoch 56/100\n",
            "177/177 [==============================] - 1s 5ms/step - loss: 0.4386 - accuracy: 0.7920\n",
            "Epoch 57/100\n",
            "177/177 [==============================] - 1s 5ms/step - loss: 0.4364 - accuracy: 0.7927\n",
            "Epoch 58/100\n",
            "177/177 [==============================] - 1s 5ms/step - loss: 0.4337 - accuracy: 0.7934\n",
            "Epoch 59/100\n",
            "177/177 [==============================] - 1s 5ms/step - loss: 0.4372 - accuracy: 0.7941\n",
            "Epoch 60/100\n",
            "177/177 [==============================] - 1s 5ms/step - loss: 0.4339 - accuracy: 0.7940\n",
            "Epoch 61/100\n",
            "177/177 [==============================] - 1s 5ms/step - loss: 0.4359 - accuracy: 0.7943\n",
            "Epoch 62/100\n",
            "177/177 [==============================] - 1s 7ms/step - loss: 0.4324 - accuracy: 0.7940\n",
            "Epoch 63/100\n",
            "177/177 [==============================] - 1s 7ms/step - loss: 0.4347 - accuracy: 0.7940\n",
            "Epoch 64/100\n",
            "177/177 [==============================] - 1s 7ms/step - loss: 0.4354 - accuracy: 0.7945\n",
            "Epoch 65/100\n",
            "177/177 [==============================] - 1s 7ms/step - loss: 0.4358 - accuracy: 0.7941\n",
            "Epoch 66/100\n",
            "177/177 [==============================] - 1s 5ms/step - loss: 0.4390 - accuracy: 0.7890\n",
            "Epoch 67/100\n",
            "177/177 [==============================] - 1s 5ms/step - loss: 0.4365 - accuracy: 0.7945\n",
            "Epoch 68/100\n",
            "177/177 [==============================] - 1s 5ms/step - loss: 0.4341 - accuracy: 0.7929\n",
            "Epoch 69/100\n",
            "177/177 [==============================] - 1s 5ms/step - loss: 0.4337 - accuracy: 0.7965\n",
            "Epoch 70/100\n",
            "177/177 [==============================] - 1s 5ms/step - loss: 0.4345 - accuracy: 0.7933\n",
            "Epoch 71/100\n",
            "177/177 [==============================] - 1s 5ms/step - loss: 0.4310 - accuracy: 0.7975\n",
            "Epoch 72/100\n",
            "177/177 [==============================] - 1s 5ms/step - loss: 0.4343 - accuracy: 0.7904\n",
            "Epoch 73/100\n",
            "177/177 [==============================] - 1s 5ms/step - loss: 0.4342 - accuracy: 0.7957\n",
            "Epoch 74/100\n",
            "177/177 [==============================] - 1s 5ms/step - loss: 0.4323 - accuracy: 0.7911\n",
            "Epoch 75/100\n",
            "177/177 [==============================] - 1s 5ms/step - loss: 0.4331 - accuracy: 0.7965\n",
            "Epoch 76/100\n",
            "177/177 [==============================] - 1s 5ms/step - loss: 0.4308 - accuracy: 0.7993\n",
            "Epoch 77/100\n",
            "177/177 [==============================] - 2s 9ms/step - loss: 0.4358 - accuracy: 0.7945\n",
            "Epoch 78/100\n",
            "177/177 [==============================] - 1s 8ms/step - loss: 0.4349 - accuracy: 0.7949\n",
            "Epoch 79/100\n",
            "177/177 [==============================] - 1s 7ms/step - loss: 0.4296 - accuracy: 0.7952\n",
            "Epoch 80/100\n",
            "177/177 [==============================] - 1s 7ms/step - loss: 0.4354 - accuracy: 0.7902\n",
            "Epoch 81/100\n",
            "177/177 [==============================] - 1s 5ms/step - loss: 0.4324 - accuracy: 0.7949\n",
            "Epoch 82/100\n",
            "177/177 [==============================] - 1s 5ms/step - loss: 0.4331 - accuracy: 0.8016\n",
            "Epoch 83/100\n",
            "177/177 [==============================] - 1s 5ms/step - loss: 0.4316 - accuracy: 0.7943\n",
            "Epoch 84/100\n",
            "177/177 [==============================] - 1s 5ms/step - loss: 0.4303 - accuracy: 0.7970\n",
            "Epoch 85/100\n",
            "177/177 [==============================] - 1s 5ms/step - loss: 0.4390 - accuracy: 0.7895\n",
            "Epoch 86/100\n",
            "177/177 [==============================] - 1s 5ms/step - loss: 0.4342 - accuracy: 0.7943\n",
            "Epoch 87/100\n",
            "177/177 [==============================] - 1s 5ms/step - loss: 0.4318 - accuracy: 0.7968\n",
            "Epoch 88/100\n",
            "177/177 [==============================] - 1s 5ms/step - loss: 0.4306 - accuracy: 0.7973\n",
            "Epoch 89/100\n",
            "177/177 [==============================] - 1s 5ms/step - loss: 0.4299 - accuracy: 0.7973\n",
            "Epoch 90/100\n",
            "177/177 [==============================] - 1s 5ms/step - loss: 0.4306 - accuracy: 0.7972\n",
            "Epoch 91/100\n",
            "177/177 [==============================] - 1s 5ms/step - loss: 0.4304 - accuracy: 0.7998\n",
            "Epoch 92/100\n",
            "177/177 [==============================] - 1s 7ms/step - loss: 0.4284 - accuracy: 0.8009\n",
            "Epoch 93/100\n",
            "177/177 [==============================] - 1s 7ms/step - loss: 0.4274 - accuracy: 0.7957\n",
            "Epoch 94/100\n",
            "177/177 [==============================] - 1s 7ms/step - loss: 0.4359 - accuracy: 0.7975\n",
            "Epoch 95/100\n",
            "177/177 [==============================] - 1s 7ms/step - loss: 0.4341 - accuracy: 0.7901\n",
            "Epoch 96/100\n",
            "177/177 [==============================] - 1s 6ms/step - loss: 0.4314 - accuracy: 0.7973\n",
            "Epoch 97/100\n",
            "177/177 [==============================] - 1s 5ms/step - loss: 0.4291 - accuracy: 0.7996\n",
            "Epoch 98/100\n",
            "177/177 [==============================] - 1s 5ms/step - loss: 0.4292 - accuracy: 0.7989\n",
            "Epoch 99/100\n",
            "177/177 [==============================] - 1s 5ms/step - loss: 0.4277 - accuracy: 0.7993\n",
            "Epoch 100/100\n",
            "177/177 [==============================] - 1s 5ms/step - loss: 0.4289 - accuracy: 0.7982\n"
          ]
        },
        {
          "output_type": "execute_result",
          "data": {
            "text/plain": [
              "<keras.src.callbacks.History at 0x7ac9619a6d70>"
            ]
          },
          "metadata": {},
          "execution_count": 10
        }
      ]
    },
    {
      "cell_type": "code",
      "source": [
        "output = model.predict(X_test)\n",
        "output = [0 if val < 0.5 else 1 for val in output]"
      ],
      "metadata": {
        "colab": {
          "base_uri": "https://localhost:8080/"
        },
        "id": "_wemZajNFVRK",
        "outputId": "911319ab-bfd7-4a3c-f7df-92605c23f632"
      },
      "execution_count": 13,
      "outputs": [
        {
          "output_type": "stream",
          "name": "stdout",
          "text": [
            "45/45 [==============================] - 0s 3ms/step\n"
          ]
        }
      ]
    },
    {
      "cell_type": "code",
      "source": [
        "accuracy_score(y_test, output)"
      ],
      "metadata": {
        "colab": {
          "base_uri": "https://localhost:8080/"
        },
        "id": "07ugHv0nF6xO",
        "outputId": "d4830fce-80c2-4c56-e559-d8b60d40569d"
      },
      "execution_count": 14,
      "outputs": [
        {
          "output_type": "execute_result",
          "data": {
            "text/plain": [
              "0.7338537970191625"
            ]
          },
          "metadata": {},
          "execution_count": 14
        }
      ]
    },
    {
      "cell_type": "markdown",
      "source": [
        "Further training and regularization might improve score"
      ],
      "metadata": {
        "id": "tuJF6kQsGYV1"
      }
    },
    {
      "cell_type": "markdown",
      "source": [
        "##Saving the model"
      ],
      "metadata": {
        "id": "2DCytu-QGlI8"
      }
    },
    {
      "cell_type": "code",
      "source": [
        "model.save('tfmodel')"
      ],
      "metadata": {
        "id": "5-5pobp7GHu-"
      },
      "execution_count": 15,
      "outputs": []
    },
    {
      "cell_type": "code",
      "source": [
        "del model"
      ],
      "metadata": {
        "id": "C1nnOnJuGPgS"
      },
      "execution_count": 16,
      "outputs": []
    },
    {
      "cell_type": "code",
      "source": [
        "model = load_model('tfmodel')"
      ],
      "metadata": {
        "id": "wc2I6OHKGrdx"
      },
      "execution_count": 17,
      "outputs": []
    },
    {
      "cell_type": "code",
      "source": [],
      "metadata": {
        "id": "4vuNIJHdGtgy"
      },
      "execution_count": null,
      "outputs": []
    }
  ]
}